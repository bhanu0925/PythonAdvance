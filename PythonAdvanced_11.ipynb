{
  "cells": [
    {
      "cell_type": "markdown",
      "metadata": {
        "id": "view-in-github",
        "colab_type": "text"
      },
      "source": [
        "<a href=\"https://colab.research.google.com/github/bhanu0925/PythonAdvance/blob/main/PythonAdvanced_11.ipynb\" target=\"_parent\"><img src=\"https://colab.research.google.com/assets/colab-badge.svg\" alt=\"Open In Colab\"/></a>"
      ]
    },
    {
      "cell_type": "markdown",
      "id": "344e8e27",
      "metadata": {
        "id": "344e8e27"
      },
      "source": [
        "# Assignment 11 Solutions"
      ]
    },
    {
      "cell_type": "markdown",
      "id": "11489fdc",
      "metadata": {
        "id": "11489fdc"
      },
      "source": [
        "#### Q1. What is the concept of a metaclass?\n",
        "**Ans:** Metaclass in Python is a class of a class that defines how a class behaves. A class is itself a instance of Metaclass, and any Instance of Class in Python is an Instance of type metaclass. E.g. Type of of `int`, `str`, `float`, `list`, `tuple` and many more is of metaclass type. "
      ]
    },
    {
      "cell_type": "markdown",
      "id": "a7c66d6f",
      "metadata": {
        "id": "a7c66d6f"
      },
      "source": [
        "#### Q2. What is the best way to declare a class's metaclass?\n",
        "**Ans:** A way to declare a class’ metaclass is by using **`metaclass`** keyword in class definition."
      ]
    },
    {
      "cell_type": "code",
      "execution_count": null,
      "id": "e1a13053",
      "metadata": {
        "id": "e1a13053",
        "outputId": "2d506c8b-43db-4fec-fd77-1f61c98408a5"
      },
      "outputs": [
        {
          "name": "stdout",
          "output_type": "stream",
          "text": [
            "<class 'type'>\n",
            "<class '__main__.meta'>\n"
          ]
        }
      ],
      "source": [
        "class meta(type):\n",
        "    pass\n",
        "class class_meta(metaclass=meta):\n",
        "    pass\n",
        "print(type(meta))\n",
        "print(type(class_meta))"
      ]
    },
    {
      "cell_type": "markdown",
      "id": "938e3147",
      "metadata": {
        "id": "938e3147"
      },
      "source": [
        "#### Q3. How do class decorators overlap with metaclasses for handling classes ?\n",
        "**Ans:** Anything you can do with a class decorator, you can of course do with a custom metaclasses (just apply the functionality of the \"decorator function\", i.e., the one that takes a class object and modifies it, in the course of the metaclass's **`__new__`** or **`__init__`** that make the class object!)."
      ]
    },
    {
      "cell_type": "markdown",
      "id": "3f57ffac",
      "metadata": {
        "id": "3f57ffac"
      },
      "source": [
        "#### Q4. How do class decorators overlap with metaclasses for handling instances?\n",
        "**Ans:**  Anything you can do with a class decorator, you can of course do with a custom metaclass (just apply the functionality of the \"decorator function\", i.e., the one that takes a class object and modifies it, in the course of the metaclass's **`__new__`** or **`__init__`** that make the class object!)."
      ]
    }
  ],
  "metadata": {
    "kernelspec": {
      "display_name": "Python 3",
      "language": "python",
      "name": "python3"
    },
    "language_info": {
      "codemirror_mode": {
        "name": "ipython",
        "version": 3
      },
      "file_extension": ".py",
      "mimetype": "text/x-python",
      "name": "python",
      "nbconvert_exporter": "python",
      "pygments_lexer": "ipython3",
      "version": "3.6.13"
    },
    "colab": {
      "name": "PythonAdvanced_11.ipynb",
      "provenance": [],
      "include_colab_link": true
    }
  },
  "nbformat": 4,
  "nbformat_minor": 5
}