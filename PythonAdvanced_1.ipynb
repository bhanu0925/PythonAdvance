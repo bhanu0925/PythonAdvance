{
 "cells": [
  {
   "cell_type": "markdown",
   "metadata": {},
   "source": [
    "## PythonAdvanced_1"
   ]
  },
  {
   "cell_type": "markdown",
   "metadata": {},
   "source": [
    "### Q1. What is the purpose of Python's OOP?\n",
    "\n",
    "   - Object-Oriented Programming makes the program easy to understand as well as efficient.\n",
    "   - Since the class is sharable, the code can be reused.\n",
    "   - Data is safe and secure with data abstraction.\n",
    "   - Polymorphism allows the same interface for different objects, so programmers can write efficient code\n",
    "   - inherit feature allows programmer to inhetit the methods from existing programs.\n"
   ]
  },
  {
   "cell_type": "markdown",
   "metadata": {},
   "source": [
    "### Q2. Where does an inheritance search look for an attribute?\n",
    "   The inheritance search happens in bottom up fashion. its starts form object.attr and search all \n",
    "   the way up to the parent class to find the find the first occurrence of attribute by looking in object, then in all \n",
    "   classes above it, from bottom to top and left to right\n"
   ]
  },
  {
   "cell_type": "markdown",
   "metadata": {},
   "source": [
    "### Q3. How do you distinguish between a class object and an instance object?\n",
    "\n",
    "   **Class Object** -  when we create a class , a class object is created.The class name itself is class object.\n",
    "    we can access class variable using this class name\n",
    "    Exanple  class test:\n",
    "                x = 10\n",
    "                def __init__(self,a,b)\n",
    "                    self.a = a\n",
    "                    self.b = b\n",
    "            print(test.x)\n",
    "    using this text.x we can access its class variables.. We can have only one class objects for a class.\n",
    "    \n",
    "   **Instance Object** - when we access class with paranthesis like **test()**, this will creat a instance of a class. we can have n numbers of instance objects for same class. "
   ]
  },
  {
   "cell_type": "code",
   "execution_count": 6,
   "metadata": {},
   "outputs": [
    {
     "name": "stdout",
     "output_type": "stream",
     "text": [
      "10\n"
     ]
    }
   ],
   "source": [
    "## Class object\n",
    "class test:\n",
    "    x = 10\n",
    "    def __init__(self,a,b):\n",
    "        self.a = a\n",
    "        self.b = b\n",
    "print(test.x)"
   ]
  },
  {
   "cell_type": "code",
   "execution_count": 7,
   "metadata": {},
   "outputs": [
    {
     "data": {
      "text/plain": [
       "3"
      ]
     },
     "execution_count": 7,
     "metadata": {},
     "output_type": "execute_result"
    }
   ],
   "source": [
    "## instance object\n",
    "instObj = test(3,4)\n",
    "instObj.a"
   ]
  },
  {
   "cell_type": "markdown",
   "metadata": {},
   "source": [
    "### Q4. What makes the first argument in a class’s method function special?\n",
    "\n",
    "   The keyword **self** represents the instance of a class and binds the attributes with the given arguments"
   ]
  },
  {
   "cell_type": "markdown",
   "metadata": {},
   "source": [
    "### Q5. What is the purpose of the __init__ method?\n",
    "\n",
    "   **\\__init__** is a reseved method in python classes. This method called when an object is created from the class and it allow the class to initialize the attributes of a class\n"
   ]
  },
  {
   "cell_type": "markdown",
   "metadata": {},
   "source": [
    "### Q6. What is the process for creating a class instance?\n",
    "To create instances of a class, \n",
    "- 1. Create a class \n",
    "- 2. call the class using class name and assign it to a variable (object variable) \n",
    "- 3. pass in whatever arguments its __init__ method accepts"
   ]
  },
  {
   "cell_type": "code",
   "execution_count": 8,
   "metadata": {},
   "outputs": [],
   "source": [
    "class Employee:\n",
    "    empCount = 0\n",
    "\n",
    "    def __init__(self, name, salary):\n",
    "        self.name = name\n",
    "        self.salary = salary\n",
    "        Employee.empCount += 1\n",
    "        \n",
    "objClass = Employee('Bhanu','120000')"
   ]
  },
  {
   "cell_type": "markdown",
   "metadata": {},
   "source": [
    "### Q7. What is the process for creating a class?\n",
    "**process to create class**\n",
    "- class definition starts with keyword class\n",
    "- follwed by classname and ':'\n",
    "- class will have doc string\n",
    "- class should have at least one statements."
   ]
  },
  {
   "cell_type": "code",
   "execution_count": 9,
   "metadata": {},
   "outputs": [],
   "source": [
    "class MyNewClass:\n",
    "    '''This is a docstring. I have created a new class'''\n",
    "    pass"
   ]
  },
  {
   "cell_type": "markdown",
   "metadata": {},
   "source": [
    "### Q8. How would you define the superclasses of a class?\n",
    " - The class from which a class inherits is called the parent or superclass"
   ]
  }
 ],
 "metadata": {
  "kernelspec": {
   "display_name": "Python 3",
   "language": "python",
   "name": "python3"
  },
  "language_info": {
   "codemirror_mode": {
    "name": "ipython",
    "version": 3
   },
   "file_extension": ".py",
   "mimetype": "text/x-python",
   "name": "python",
   "nbconvert_exporter": "python",
   "pygments_lexer": "ipython3",
   "version": "3.8.3"
  }
 },
 "nbformat": 4,
 "nbformat_minor": 4
}
