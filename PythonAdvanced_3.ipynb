{
  "cells": [
    {
      "cell_type": "markdown",
      "metadata": {
        "id": "view-in-github",
        "colab_type": "text"
      },
      "source": [
        "<a href=\"https://colab.research.google.com/github/bhanu0925/PythonAdvance/blob/main/PythonAdvanced_3.ipynb\" target=\"_parent\"><img src=\"https://colab.research.google.com/assets/colab-badge.svg\" alt=\"Open In Colab\"/></a>"
      ]
    },
    {
      "cell_type": "markdown",
      "id": "55846da8",
      "metadata": {
        "id": "55846da8"
      },
      "source": [
        "# Assignment 03 Solutions"
      ]
    },
    {
      "cell_type": "markdown",
      "id": "6d38e68b",
      "metadata": {
        "id": "6d38e68b"
      },
      "source": [
        "#### 1. What is the concept of an abstract superclass?\n",
        "**Ans:** An abstract class/superclass can be considered as a blueprint for other classes. It allows you to create a set of methods that must be created within any child classes built from the abstract class. A class which contains one or more abstract methods is called an abstract class.\n",
        "\n",
        "Whereas an abstract method is a method that has a declaration but does not have an implementation"
      ]
    },
    {
      "cell_type": "code",
      "execution_count": null,
      "id": "00e14ca4",
      "metadata": {
        "id": "00e14ca4"
      },
      "outputs": [],
      "source": [
        "from abc import ABC, abstractmethod\n",
        "class Polygon(ABC): # Abstract Class\n",
        "    @abstractmethod\n",
        "    def noofsides(self): # Abstract Method\n",
        "        pass\n",
        "class Triangle(Polygon):\n",
        "    def noofsides(self):  # overriding abstract method in child class Triangle\n",
        "        print(\"I have 3 sides\")\n",
        "class Pentagon(Polygon):\n",
        "    def noofsides(self): # overriding abstract method in child class Pentagon\n",
        "        print(\"I have 5 sides\")"
      ]
    },
    {
      "cell_type": "markdown",
      "id": "e4a49a25",
      "metadata": {
        "id": "e4a49a25"
      },
      "source": [
        "#### 2. What happens when a class statement's top level contains a basic assignment statement?\n",
        "**Ans:** When a Class statement's top level contains a basic assignment statement, its usually treated as a class attribute or class level variable. \n",
        "\n",
        "where as assignment statements inside methods are treated as instance attributes or local attributes.\n",
        "\n",
        "When an instance of a class is created a single copy of class attributes is maintained and shared to all instances of class. where as each instance object maintains its own copy of instance variables."
      ]
    },
    {
      "cell_type": "code",
      "execution_count": null,
      "id": "c5d88b4d",
      "metadata": {
        "id": "c5d88b4d"
      },
      "outputs": [],
      "source": [
        "class Person:\n",
        "    species = 'Homesapiens' # class attribute\n",
        "    def __init__(self,name,gender):\n",
        "        self.name = name # instance attributes\n",
        "        self.gender = gender"
      ]
    },
    {
      "cell_type": "markdown",
      "id": "beb231b3",
      "metadata": {
        "id": "beb231b3"
      },
      "source": [
        "#### 3. Why does a class need to manually call a superclass's __init__ method?\n",
        "**Ans:** if a child class has **`__init__`** method, then it will not inherit the **`__init__`** method of the parent class. in other words the **`__init__`** method of the child class overrides the **`__init__`** method of the parent class. so we have to manually call a parent superclass's **`__init__`** using **`super()`** method"
      ]
    },
    {
      "cell_type": "code",
      "execution_count": null,
      "id": "d30162f0",
      "metadata": {
        "id": "d30162f0",
        "outputId": "a027ca66-6ebd-4235-fe3c-775d3a63a52c"
      },
      "outputs": [
        {
          "name": "stdout",
          "output_type": "stream",
          "text": [
            "{'name': 'Vivek', 'age': 28, 'salary': 20000}\n"
          ]
        }
      ],
      "source": [
        "class Person:\n",
        "    def __init__(self,name,age):\n",
        "        self.name = name\n",
        "        self.age = age       \n",
        "class Employee(Person):\n",
        "    def __init__(self,name,age,salary):\n",
        "        super().__init__(name,age)\n",
        "        self.salary = salary\n",
        "emp_1 = Employee('Vivek',28,20000)\n",
        "print(emp_1.__dict__)"
      ]
    },
    {
      "cell_type": "markdown",
      "id": "f7468111",
      "metadata": {
        "id": "f7468111"
      },
      "source": [
        "#### 4. How can you augment, instead of completely replacing, an inherited method?\n",
        "**Ans:** **`super()`** method can be used to augment, instead of completely replacing, an inherited method."
      ]
    },
    {
      "cell_type": "code",
      "execution_count": null,
      "id": "437bf527",
      "metadata": {
        "id": "437bf527",
        "outputId": "b9d11d63-9f39-4a60-8dae-9e5d2a64195c"
      },
      "outputs": [
        {
          "name": "stdout",
          "output_type": "stream",
          "text": [
            "{'name': 'Vivek', 'gender': 'Male', 'salary': 10000}\n"
          ]
        }
      ],
      "source": [
        "class Person:\n",
        "    def __init__(self,name,gender):\n",
        "        self.name = name\n",
        "        self.gender = gender\n",
        "class Employee(Person):\n",
        "    def __init__(self,name,gender,salary):\n",
        "        super().__init__(name,gender) \n",
        "        self.salary = salary\n",
        "emp_1 = Employee('Vivek','Male',10000)\n",
        "print(emp_1.__dict__)       "
      ]
    },
    {
      "cell_type": "markdown",
      "id": "16559793",
      "metadata": {
        "id": "16559793"
      },
      "source": [
        "#### 5. How is the local scope of a class different from that of a function?\n",
        "**Ans:** A Variable which is defined inside a function is local to that function. it is accesible from the point at which it is defined until the end of the function, and exists for as long as the function is existing.\n",
        "\n",
        "Similary a variable inside of a class also has a local variable scope. Variables which are defined in the class body (but outside all methods) are called as class level variables or class attributes. they can be referenced by there bare names within the same scope, but they can also be accessed from outside this scope if we use the attribute access operator `(.)`. on a class or an instance of the class."
      ]
    },
    {
      "cell_type": "code",
      "execution_count": 1,
      "id": "1d9896b9",
      "metadata": {
        "colab": {
          "base_uri": "https://localhost:8080/"
        },
        "id": "1d9896b9",
        "outputId": "fa21c57a-478e-4577-8dac-235c9d88b694"
      },
      "outputs": [
        {
          "output_type": "stream",
          "name": "stdout",
          "text": [
            "you're name is HUman Being\n",
            "Name varible is not available outside hello function scope\n",
            "HomeSapines\n",
            "HomeSapines\n"
          ]
        }
      ],
      "source": [
        "def hello(name):\n",
        "    name = name\n",
        "    print(f'you\\'re name is {name}')\n",
        "hello('HUman Being')\n",
        "try:\n",
        "    name\n",
        "except NameError:\n",
        "    print('Name varible is not available outside hello function scope')\n",
        "\n",
        "class Person:\n",
        "    species = \"HomeSapines\"\n",
        "    def __init__(self):\n",
        "        pass\n",
        "print(Person.species) # Accessing species using class name\n",
        "Male = Person()\n",
        "print(Male.species) # Accessing species using instance of class"
      ]
    },
    {
      "cell_type": "code",
      "source": [
        ""
      ],
      "metadata": {
        "id": "cjKHAgXkgDxF"
      },
      "id": "cjKHAgXkgDxF",
      "execution_count": null,
      "outputs": []
    }
  ],
  "metadata": {
    "kernelspec": {
      "display_name": "Python 3",
      "language": "python",
      "name": "python3"
    },
    "language_info": {
      "codemirror_mode": {
        "name": "ipython",
        "version": 3
      },
      "file_extension": ".py",
      "mimetype": "text/x-python",
      "name": "python",
      "nbconvert_exporter": "python",
      "pygments_lexer": "ipython3",
      "version": "3.8.8"
    },
    "colab": {
      "name": "03.Assignment_03.ipynb",
      "provenance": [],
      "include_colab_link": true
    }
  },
  "nbformat": 4,
  "nbformat_minor": 5
}